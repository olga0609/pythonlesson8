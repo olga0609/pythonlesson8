{
 "cells": [
  {
   "cell_type": "markdown",
   "metadata": {},
   "source": [
    "### Задание 1"
   ]
  },
  {
   "cell_type": "code",
   "execution_count": 18,
   "metadata": {},
   "outputs": [
    {
     "name": "stdout",
     "output_type": "stream",
     "text": [
      "Номер некорректный\n",
      "Номер корректный. Регион ['96']\n"
     ]
    }
   ],
   "source": [
    "def check_carid(no):\n",
    "    import re\n",
    "    correctno = r'[A-Z]{1}\\d{3}[A-Z]{2}\\d{2,3}'\n",
    "    if re.match(correctno, no):\n",
    "        reg = re.findall(r'\\d{2,3}$', no)\n",
    "        print(f'Номер корректный. Регион {reg}')\n",
    "    else:\n",
    "        print('Номер некорректный')\n",
    "        \n",
    "check_carid('АБ22ВВ193')\n",
    "check_carid('A222BC96')"
   ]
  },
  {
   "cell_type": "markdown",
   "metadata": {},
   "source": [
    "### Задание 2"
   ]
  },
  {
   "cell_type": "code",
   "execution_count": 24,
   "metadata": {},
   "outputs": [
    {
     "name": "stdout",
     "output_type": "stream",
     "text": [
      "Напишите функцию которая будет удалять все последовательные повторы слов из заданной строки при помощи регулярных выражений\n"
     ]
    }
   ],
   "source": [
    "def deleteduplicates(somestring):\n",
    "    import re\n",
    "    print( re.sub(r'\\b([^\\W\\d_]+)(\\s+\\1)+\\b', r'\\1', re.sub(r'\\W+', ' ', s).strip(), flags=re.I) )\n",
    "    \n",
    "deleteduplicates('Напишите функцию функцию, которая будет будет будет будет удалять все все все все последовательные повторы слов из из из из заданной строки строки при помощи регулярных выражений.')"
   ]
  },
  {
   "cell_type": "markdown",
   "metadata": {},
   "source": [
    "### Задание 3"
   ]
  },
  {
   "cell_type": "code",
   "execution_count": 142,
   "metadata": {},
   "outputs": [
    {
     "name": "stdout",
     "output_type": "stream",
     "text": [
      "ИТ\n",
      "NFC\n"
     ]
    }
   ],
   "source": [
    "def acronym(some_word):\n",
    "    import re\n",
    "    r = re.compile(r\"\\b(?:[a-z,а-яёА-ЯЁ]|\\d+)\", re.I)\n",
    "    print(''.join(r.findall(some_word)).upper())\n",
    "    \n",
    "acronym('Информационные технологии')\n",
    "acronym('Near Field Communication')"
   ]
  },
  {
   "cell_type": "markdown",
   "metadata": {},
   "source": [
    "### Задание 4"
   ]
  },
  {
   "cell_type": "code",
   "execution_count": 162,
   "metadata": {},
   "outputs": [
    {
     "name": "stdout",
     "output_type": "stream",
     "text": [
      "{\"'gmail.com'\": 2, \"'test.in'\": 1, \"'ya.ru'\": 2, \"'mail.ru'\": 1}\n"
     ]
    }
   ],
   "source": [
    "def count_domain(emails):\n",
    "    import re\n",
    "    domains = {}\n",
    "    for email in emails:\n",
    "        domain = str(re.findall(r'[a-z]*\\.[a-z]{1,3}', email)).strip('[]')\n",
    "        if domain not in domains.keys():\n",
    "            domains[domain] = 1\n",
    "        else: \n",
    "            domains[domain] += 1\n",
    "    print(domains)\n",
    "    \n",
    "count_domain(['test@gmail.com', 'xyz@test.in', 'test@ya.ru', 'xyz@mail.ru', 'xyz@ya.ru', 'xyz@gmail.com'])"
   ]
  },
  {
   "cell_type": "code",
   "execution_count": null,
   "metadata": {},
   "outputs": [],
   "source": []
  }
 ],
 "metadata": {
  "kernelspec": {
   "display_name": "Python 3",
   "language": "python",
   "name": "python3"
  },
  "language_info": {
   "codemirror_mode": {
    "name": "ipython",
    "version": 3
   },
   "file_extension": ".py",
   "mimetype": "text/x-python",
   "name": "python",
   "nbconvert_exporter": "python",
   "pygments_lexer": "ipython3",
   "version": "3.8.3"
  }
 },
 "nbformat": 4,
 "nbformat_minor": 4
}
